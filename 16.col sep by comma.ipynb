{
 "cells": [
  {
   "cell_type": "code",
   "execution_count": 3,
   "metadata": {},
   "outputs": [
    {
     "name": "stdout",
     "output_type": "stream",
     "text": [
      "enter the colors seperated by comma:red,white,yellow,blue,green\n",
      "['red', 'white', 'yellow', 'blue', 'green']\n",
      " the first and last colors are:red,green\n"
     ]
    }
   ],
   "source": [
    "c=input(\"enter the colors seperated by comma:\")\n",
    "p=c.split(\",\")\n",
    "print(p)\n",
    "n=p[0]+','+p[-1]\n",
    "print(\" the first and last colors are:%s\" %n)"
   ]
  },
  {
   "cell_type": "code",
   "execution_count": null,
   "metadata": {
    "collapsed": true
   },
   "outputs": [],
   "source": []
  }
 ],
 "metadata": {
  "kernelspec": {
   "display_name": "Python 3",
   "language": "python",
   "name": "python3"
  },
  "language_info": {
   "codemirror_mode": {
    "name": "ipython",
    "version": 3
   },
   "file_extension": ".py",
   "mimetype": "text/x-python",
   "name": "python",
   "nbconvert_exporter": "python",
   "pygments_lexer": "ipython3",
   "version": "3.6.3"
  }
 },
 "nbformat": 4,
 "nbformat_minor": 2
}
