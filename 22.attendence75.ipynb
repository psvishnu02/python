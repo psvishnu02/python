{
 "cells": [
  {
   "cell_type": "code",
   "execution_count": 2,
   "metadata": {},
   "outputs": [
    {
     "name": "stdout",
     "output_type": "stream",
     "text": [
      "enter the number of classes held:100\n",
      "enter the number of classes attended:80\n",
      "percentage=80\n",
      "allowed to sit in exam\n"
     ]
    }
   ],
   "source": [
    "nh=int(input(\"enter the number of classes held:\"))\n",
    "na=int(input(\"enter the number of classes attended:\"))\n",
    "p=(na*100)/nh\n",
    "print(\"percentage=%d\"%p)\n",
    "if(p>=75):\n",
    "    print(\"allowed to sit in exam\")\n",
    "else:\n",
    "    print(\"not allowed  to sit in exam\")"
   ]
  },
  {
   "cell_type": "code",
   "execution_count": null,
   "metadata": {
    "collapsed": true
   },
   "outputs": [],
   "source": []
  }
 ],
 "metadata": {
  "kernelspec": {
   "display_name": "Python 3",
   "language": "python",
   "name": "python3"
  },
  "language_info": {
   "codemirror_mode": {
    "name": "ipython",
    "version": 3
   },
   "file_extension": ".py",
   "mimetype": "text/x-python",
   "name": "python",
   "nbconvert_exporter": "python",
   "pygments_lexer": "ipython3",
   "version": "3.6.3"
  }
 },
 "nbformat": 4,
 "nbformat_minor": 2
}
