{
 "cells": [
  {
   "cell_type": "code",
   "execution_count": 1,
   "metadata": {},
   "outputs": [
    {
     "name": "stdout",
     "output_type": "stream",
     "text": [
      "enter the numbers seperated by comma1,2,3,6,5,4,1\n",
      "['1', '2', '3', '6', '5', '4', '1']\n",
      "first and last is same hence it is true\n"
     ]
    }
   ],
   "source": [
    "l=input(\"enter the numbers seperated by comma\")\n",
    "p=l.split(\",\")\n",
    "print(p)\n",
    "if(p[0]==p[-1]):\n",
    "    print(\"first and last is same hence it is true\")\n",
    "else:\n",
    "    print(\"first and last is not same hence it is false\")"
   ]
  },
  {
   "cell_type": "code",
   "execution_count": null,
   "metadata": {
    "collapsed": true
   },
   "outputs": [],
   "source": []
  }
 ],
 "metadata": {
  "kernelspec": {
   "display_name": "Python 3",
   "language": "python",
   "name": "python3"
  },
  "language_info": {
   "codemirror_mode": {
    "name": "ipython",
    "version": 3
   },
   "file_extension": ".py",
   "mimetype": "text/x-python",
   "name": "python",
   "nbconvert_exporter": "python",
   "pygments_lexer": "ipython3",
   "version": "3.6.3"
  }
 },
 "nbformat": 4,
 "nbformat_minor": 2
}
