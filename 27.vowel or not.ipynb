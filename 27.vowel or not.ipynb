{
 "cells": [
  {
   "cell_type": "code",
   "execution_count": 8,
   "metadata": {},
   "outputs": [
    {
     "name": "stdout",
     "output_type": "stream",
     "text": [
      "enter the letter:b\n",
      "b is not a vowel\n"
     ]
    }
   ],
   "source": [
    "a=input(\"enter the letter:\")\n",
    "if(a=='A' or a=='a' or a=='e' or a=='E' or a=='i'or a=='I'or a=='o' or a=='O' or a=='u'or a=='U'):\n",
    "    print(\"%s is a vowel\" %a)\n",
    "else:\n",
    "    print(\"%s is not a vowel\" %a)"
   ]
  },
  {
   "cell_type": "code",
   "execution_count": null,
   "metadata": {
    "collapsed": true
   },
   "outputs": [],
   "source": []
  }
 ],
 "metadata": {
  "kernelspec": {
   "display_name": "Python 3",
   "language": "python",
   "name": "python3"
  },
  "language_info": {
   "codemirror_mode": {
    "name": "ipython",
    "version": 3
   },
   "file_extension": ".py",
   "mimetype": "text/x-python",
   "name": "python",
   "nbconvert_exporter": "python",
   "pygments_lexer": "ipython3",
   "version": "3.6.3"
  }
 },
 "nbformat": 4,
 "nbformat_minor": 2
}
