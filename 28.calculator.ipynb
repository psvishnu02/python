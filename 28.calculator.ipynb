{
 "cells": [
  {
   "cell_type": "code",
   "execution_count": 1,
   "metadata": {},
   "outputs": [
    {
     "name": "stdout",
     "output_type": "stream",
     "text": [
      "enter the first number:10\n",
      "enter the second number:20\n",
      "enter the option\n",
      "1.addition\n",
      "2.multiplication\n",
      "3.division\n",
      "4.substraction\n",
      "option is:1\n",
      "ans is: 30.00\n"
     ]
    }
   ],
   "source": [
    "a=float(input(\"enter the first number:\"))\n",
    "b=float(input(\"enter the second number:\"))\n",
    "print(\"enter the option\")\n",
    "print(\"1.addition\")\n",
    "print(\"2.multiplication\")\n",
    "print(\"3.division\")\n",
    "print(\"4.substraction\")\n",
    "opt=int(input(\"option is:\"))\n",
    "if(opt==1):\n",
    "    print(\"ans is: %.2f\"%(a+b))\n",
    "elif(opt==2):\n",
    "    print(\"ans is: %.2f\"%(a*b))\n",
    "elif(opt==3):\n",
    "    print(\"ans is: %.2f\"%(a/b))\n",
    "elif(opt==4):\n",
    "    print(\"ans is: %.2f\"%(a-b))\n",
    "else:\n",
    "    print(\"you have entered a wrong option\")"
   ]
  },
  {
   "cell_type": "code",
   "execution_count": null,
   "metadata": {
    "collapsed": true
   },
   "outputs": [],
   "source": []
  },
  {
   "cell_type": "code",
   "execution_count": null,
   "metadata": {
    "collapsed": true
   },
   "outputs": [],
   "source": []
  },
  {
   "cell_type": "code",
   "execution_count": null,
   "metadata": {
    "collapsed": true
   },
   "outputs": [],
   "source": []
  }
 ],
 "metadata": {
  "kernelspec": {
   "display_name": "Python 3",
   "language": "python",
   "name": "python3"
  },
  "language_info": {
   "codemirror_mode": {
    "name": "ipython",
    "version": 3
   },
   "file_extension": ".py",
   "mimetype": "text/x-python",
   "name": "python",
   "nbconvert_exporter": "python",
   "pygments_lexer": "ipython3",
   "version": "3.6.3"
  }
 },
 "nbformat": 4,
 "nbformat_minor": 2
}
