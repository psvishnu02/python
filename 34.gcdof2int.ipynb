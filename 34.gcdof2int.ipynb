{
 "cells": [
  {
   "cell_type": "code",
   "execution_count": 12,
   "metadata": {},
   "outputs": [
    {
     "name": "stdout",
     "output_type": "stream",
     "text": [
      "enter a number:98\n",
      "enter a number:56\n",
      "the gcd of 98 and 56=14\n"
     ]
    }
   ],
   "source": [
    "#GCD of two integers\n",
    "a=int(input(\"enter a number:\"))\n",
    "b=int(input(\"enter a number:\"))\n",
    "r=min(a,b)\n",
    "while (r>0):\n",
    "    if(a%r==0 and b%r==0):\n",
    "        print(\"the gcd of %d and %d=%d\"%(a,b,r))\n",
    "        break;\n",
    "    r=r-1        \n"
   ]
  },
  {
   "cell_type": "code",
   "execution_count": null,
   "metadata": {
    "collapsed": true
   },
   "outputs": [],
   "source": []
  }
 ],
 "metadata": {
  "kernelspec": {
   "display_name": "Python 3",
   "language": "python",
   "name": "python3"
  },
  "language_info": {
   "codemirror_mode": {
    "name": "ipython",
    "version": 3
   },
   "file_extension": ".py",
   "mimetype": "text/x-python",
   "name": "python",
   "nbconvert_exporter": "python",
   "pygments_lexer": "ipython3",
   "version": "3.6.3"
  }
 },
 "nbformat": 4,
 "nbformat_minor": 2
}
