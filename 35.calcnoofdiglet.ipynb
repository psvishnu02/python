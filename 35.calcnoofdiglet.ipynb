{
 "cells": [
  {
   "cell_type": "code",
   "execution_count": 8,
   "metadata": {},
   "outputs": [
    {
     "name": "stdout",
     "output_type": "stream",
     "text": [
      "Input a string:happy36548\n",
      "No of Letters: 5\n",
      "No of Digits: 5\n"
     ]
    }
   ],
   "source": [
    "#calculate the number of digits and letters\n",
    "s = input(\"Input a string:\")\n",
    "d=0\n",
    "l=0\n",
    "for n in s:\n",
    "    if(n.isdigit()):\n",
    "        d=d+1\n",
    "    elif(n.isalpha()):\n",
    "        l=l+1   \n",
    "print(\"No of Letters:\", l)\n",
    "print(\"No of Digits:\", d)"
   ]
  },
  {
   "cell_type": "code",
   "execution_count": null,
   "metadata": {
    "collapsed": true
   },
   "outputs": [],
   "source": []
  }
 ],
 "metadata": {
  "kernelspec": {
   "display_name": "Python 3",
   "language": "python",
   "name": "python3"
  },
  "language_info": {
   "codemirror_mode": {
    "name": "ipython",
    "version": 3
   },
   "file_extension": ".py",
   "mimetype": "text/x-python",
   "name": "python",
   "nbconvert_exporter": "python",
   "pygments_lexer": "ipython3",
   "version": "3.6.3"
  }
 },
 "nbformat": 4,
 "nbformat_minor": 2
}
