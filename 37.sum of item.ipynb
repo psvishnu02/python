{
 "cells": [
  {
   "cell_type": "code",
   "execution_count": 3,
   "metadata": {},
   "outputs": [
    {
     "name": "stdout",
     "output_type": "stream",
     "text": [
      "enter the elements seperated by comma :12,14,15\n",
      "sum of all items in the list: 41\n"
     ]
    }
   ],
   "source": [
    "#sum of all items in list\n",
    "s=(input(\"enter the elements seperated by comma :\"))\n",
    "a=s.split(',')\n",
    "t=0\n",
    "for i in range(0,len(a)):\n",
    "    t=t+int(a[i])\n",
    "print(\"sum of all items in the list:\",t) "
   ]
  },
  {
   "cell_type": "code",
   "execution_count": null,
   "metadata": {
    "collapsed": true
   },
   "outputs": [],
   "source": []
  }
 ],
 "metadata": {
  "kernelspec": {
   "display_name": "Python 3",
   "language": "python",
   "name": "python3"
  },
  "language_info": {
   "codemirror_mode": {
    "name": "ipython",
    "version": 3
   },
   "file_extension": ".py",
   "mimetype": "text/x-python",
   "name": "python",
   "nbconvert_exporter": "python",
   "pygments_lexer": "ipython3",
   "version": "3.6.3"
  }
 },
 "nbformat": 4,
 "nbformat_minor": 2
}
