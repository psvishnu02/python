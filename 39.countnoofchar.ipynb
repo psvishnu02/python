{
 "cells": [
  {
   "cell_type": "code",
   "execution_count": 4,
   "metadata": {},
   "outputs": [
    {
     "name": "stdout",
     "output_type": "stream",
     "text": [
      "enter a string:welcome home boy\n",
      "Total number of characters in a string: {'w': 1, 'e': 3, 'l': 1, 'c': 1, 'o': 3, 'm': 2, ' ': 2, 'h': 1, 'b': 1, 'y': 1}\n"
     ]
    }
   ],
   "source": [
    "#count the number of characters in a string\n",
    "s=input(\"enter a string:\")\n",
    "c={}\n",
    "for i in s:\n",
    "    if i in c:\n",
    "        c[i]=c[i]+1\n",
    "    else:\n",
    "        c[i]=1\n",
    "print(\"Total number of characters in a string: \" + str(c));\n"
   ]
  },
  {
   "cell_type": "code",
   "execution_count": null,
   "metadata": {
    "collapsed": true
   },
   "outputs": [],
   "source": []
  }
 ],
 "metadata": {
  "kernelspec": {
   "display_name": "Python 3",
   "language": "python",
   "name": "python3"
  },
  "language_info": {
   "codemirror_mode": {
    "name": "ipython",
    "version": 3
   },
   "file_extension": ".py",
   "mimetype": "text/x-python",
   "name": "python",
   "nbconvert_exporter": "python",
   "pygments_lexer": "ipython3",
   "version": "3.6.3"
  }
 },
 "nbformat": 4,
 "nbformat_minor": 2
}
