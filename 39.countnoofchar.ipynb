{
 "cells": [
  {
   "cell_type": "code",
   "execution_count": 28,
   "metadata": {},
   "outputs": [
    {
     "name": "stdout",
     "output_type": "stream",
     "text": [
      "enter a string:welcomehomeboy!\n",
      "w is repeated 1 time(s)\n",
      "e is repeated 3 time(s)\n",
      "l is repeated 1 time(s)\n",
      "c is repeated 1 time(s)\n",
      "o is repeated 3 time(s)\n",
      "m is repeated 2 time(s)\n",
      "h is repeated 1 time(s)\n",
      "b is repeated 1 time(s)\n",
      "y is repeated 1 time(s)\n",
      "! is repeated 1 time(s)\n"
     ]
    }
   ],
   "source": [
    "#count the number of characters in a string\n",
    "s=input(\"enter a string:\")\n",
    "c={}\n",
    "for i in s:\n",
    "    if i in c:\n",
    "        c[i]=c[i]+1\n",
    "    else:\n",
    "        c[i]=1\n",
    "for keys, value in c.items():\n",
    "    print(keys,'is repeated',value,'time(s)')"
   ]
  },
  {
   "cell_type": "code",
   "execution_count": null,
   "metadata": {
    "collapsed": true
   },
   "outputs": [],
   "source": []
  }
 ],
 "metadata": {
  "kernelspec": {
   "display_name": "Python 3",
   "language": "python",
   "name": "python3"
  },
  "language_info": {
   "codemirror_mode": {
    "name": "ipython",
    "version": 3
   },
   "file_extension": ".py",
   "mimetype": "text/x-python",
   "name": "python",
   "nbconvert_exporter": "python",
   "pygments_lexer": "ipython3",
   "version": "3.6.3"
  }
 },
 "nbformat": 4,
 "nbformat_minor": 2
}
