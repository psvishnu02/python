{
 "cells": [
  {
   "cell_type": "code",
   "execution_count": 1,
   "metadata": {},
   "outputs": [
    {
     "name": "stdout",
     "output_type": "stream",
     "text": [
      "Enter the number:666\n",
      "666 is not an armstorng number\n"
     ]
    }
   ],
   "source": [
    "#ARMSTRONG OR NOT\n",
    "n=int(input(\"Enter the number:\"))\n",
    "a=n\n",
    "sum=0\n",
    "while(a>0):\n",
    "    s=a%10\n",
    "    sum=sum +s**3\n",
    "    a=a//10\n",
    "if(n==sum):\n",
    "    print(n, \"is an armstrong number\")\n",
    "else:\n",
    "    print(n, \"is not an armstorng number\")"
   ]
  },
  {
   "cell_type": "code",
   "execution_count": null,
   "metadata": {
    "collapsed": true
   },
   "outputs": [],
   "source": []
  }
 ],
 "metadata": {
  "kernelspec": {
   "display_name": "Python 3",
   "language": "python",
   "name": "python3"
  },
  "language_info": {
   "codemirror_mode": {
    "name": "ipython",
    "version": 3
   },
   "file_extension": ".py",
   "mimetype": "text/x-python",
   "name": "python",
   "nbconvert_exporter": "python",
   "pygments_lexer": "ipython3",
   "version": "3.6.3"
  }
 },
 "nbformat": 4,
 "nbformat_minor": 2
}
