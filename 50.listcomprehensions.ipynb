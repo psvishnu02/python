{
 "cells": [
  {
   "cell_type": "code",
   "execution_count": 5,
   "metadata": {},
   "outputs": [
    {
     "name": "stdout",
     "output_type": "stream",
     "text": [
      "Enter the numbers seperated by comma:-1,-2,-3,1,2,3\n",
      "Positive integers in the list: [1, 2, 3]\n",
      "Square of  numbers [1, 4, 9, 1, 4, 9]\n",
      "Enter the word:aeroplane\n",
      "The Vowels are: ['a', 'e', 'o', 'a', 'e']\n",
      "the ordinal values of the word aeroplane is [97, 101, 114, 111, 112, 108, 97, 110, 101]\n"
     ]
    }
   ],
   "source": [
    "#Comperhension List\n",
    "n=input(\"Enter the numbers seperated by comma:\").split(\",\")\n",
    "b=map(int,n)\n",
    "nl=[x for x in b if x>0]\n",
    "print(\"Positive integers in the list:\",nl)\n",
    "d=map(int,n)\n",
    "#square of n numbers\n",
    "nl2=[x**2 for x in d]\n",
    "print( \"Square of  numbers\",nl2)\n",
    "#vowels\n",
    "w=input(\"Enter the word:\")\n",
    "vowels=[\"a\",\"e\",\"i\",\"o\",\"u\",'A','E','i','O','U']\n",
    "list=[v for v in w if any(char in vowels for char in v)]\n",
    "print(\"The Vowels are:\",list)\n",
    "z=[ord(x) for x in w]\n",
    "print(\"the ordinal values of the word %s is %s\"%(w,z))\n"
   ]
  },
  {
   "cell_type": "code",
   "execution_count": null,
   "metadata": {
    "collapsed": true
   },
   "outputs": [],
   "source": []
  }
 ],
 "metadata": {
  "kernelspec": {
   "display_name": "Python 3",
   "language": "python",
   "name": "python3"
  },
  "language_info": {
   "codemirror_mode": {
    "name": "ipython",
    "version": 3
   },
   "file_extension": ".py",
   "mimetype": "text/x-python",
   "name": "python",
   "nbconvert_exporter": "python",
   "pygments_lexer": "ipython3",
   "version": "3.6.3"
  }
 },
 "nbformat": 4,
 "nbformat_minor": 2
}
