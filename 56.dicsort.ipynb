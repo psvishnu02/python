{
 "cells": [
  {
   "cell_type": "code",
   "execution_count": 13,
   "metadata": {},
   "outputs": [
    {
     "name": "stdout",
     "output_type": "stream",
     "text": [
      "Dictionary {'tom': 12, 'jerry': 13, 'doora': 15, 'buji': 14}\n",
      "Ascending order is: [('lewandoski', 14), ('messi', 12), ('neymar', 15), ('ronaldo', 13)]\n",
      "Descending order is: [('ronaldo', 13), ('neymar', 15), ('messi', 12), ('lewandoski', 14)]\n"
     ]
    }
   ],
   "source": [
    "#56. Sort dictionary in ascending and descending order.\n",
    "a={'messi':12,'ronaldo':13,'neymar':15,'lewandoski':14} \n",
    "l=list(a.items())\n",
    "l.sort()\n",
    "print(\"Dictionary\",dict)\n",
    "print('Ascending order is:',l) \n",
    "l=list(a.items())\n",
    "l.sort(reverse=True) \n",
    "print('Descending order is:',l)"
   ]
  },
  {
   "cell_type": "code",
   "execution_count": null,
   "metadata": {
    "collapsed": true
   },
   "outputs": [],
   "source": []
  }
 ],
 "metadata": {
  "kernelspec": {
   "display_name": "Python 3",
   "language": "python",
   "name": "python3"
  },
  "language_info": {
   "codemirror_mode": {
    "name": "ipython",
    "version": 3
   },
   "file_extension": ".py",
   "mimetype": "text/x-python",
   "name": "python",
   "nbconvert_exporter": "python",
   "pygments_lexer": "ipython3",
   "version": "3.6.3"
  }
 },
 "nbformat": 4,
 "nbformat_minor": 2
}
