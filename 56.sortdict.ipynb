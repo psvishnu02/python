{
 "cells": [
  {
   "cell_type": "code",
   "execution_count": 2,
   "id": "2e3329a1",
   "metadata": {},
   "outputs": [
    {
     "name": "stdout",
     "output_type": "stream",
     "text": [
      "Dictionary {'messi': 12, 'ronaldo': 13, 'neymar': 15, 'lewandoski': 14}\n",
      "Ascending order is: [('lewandoski', 14), ('messi', 12), ('neymar', 15), ('ronaldo', 13)]\n",
      "Descending order is: [('ronaldo', 13), ('neymar', 15), ('messi', 12), ('lewandoski', 14)]\n"
     ]
    }
   ],
   "source": [
    "#56. Sort dictionary in ascending and descending order.\n",
    "a={'messi':12,'ronaldo':13,'neymar':15,'lewandoski':14} \n",
    "l=list(a.items())\n",
    "l.sort()\n",
    "print(\"Dictionary\",a)\n",
    "print('Ascending order is:',l) \n",
    "l=list(a.items())\n",
    "l.sort(reverse=True) \n",
    "print('Descending order is:',l)"
   ]
  },
  {
   "cell_type": "code",
   "execution_count": null,
   "id": "d90c56e5",
   "metadata": {},
   "outputs": [],
   "source": []
  }
 ],
 "metadata": {
  "kernelspec": {
   "display_name": "Python 3 (ipykernel)",
   "language": "python",
   "name": "python3"
  },
  "language_info": {
   "codemirror_mode": {
    "name": "ipython",
    "version": 3
   },
   "file_extension": ".py",
   "mimetype": "text/x-python",
   "name": "python",
   "nbconvert_exporter": "python",
   "pygments_lexer": "ipython3",
   "version": "3.9.13"
  }
 },
 "nbformat": 4,
 "nbformat_minor": 5
}
