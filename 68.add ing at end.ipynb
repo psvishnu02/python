{
 "cells": [
  {
   "cell_type": "code",
   "execution_count": 3,
   "metadata": {},
   "outputs": [
    {
     "name": "stdout",
     "output_type": "stream",
     "text": [
      "Enter a word: emgineering\n",
      "new word: emgineeringly\n"
     ]
    }
   ],
   "source": [
    "#Add ‘ing’ at the end of a given string. If it already ends with ‘ing’, then add ‘ly’.\n",
    "w=input(\"Enter a word: \")\n",
    "str1=w[-3:]\n",
    "if str1=='ing':\n",
    "    w=w+'ly'\n",
    "else:\n",
    "    w=w+'ing'\n",
    "print(\"new word:\",w)    \n",
    "    \n"
   ]
  },
  {
   "cell_type": "code",
   "execution_count": null,
   "metadata": {
    "collapsed": true
   },
   "outputs": [],
   "source": []
  }
 ],
 "metadata": {
  "kernelspec": {
   "display_name": "Python 3",
   "language": "python",
   "name": "python3"
  },
  "language_info": {
   "codemirror_mode": {
    "name": "ipython",
    "version": 3
   },
   "file_extension": ".py",
   "mimetype": "text/x-python",
   "name": "python",
   "nbconvert_exporter": "python",
   "pygments_lexer": "ipython3",
   "version": "3.6.3"
  }
 },
 "nbformat": 4,
 "nbformat_minor": 2
}
