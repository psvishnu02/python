{
 "cells": [
  {
   "cell_type": "code",
   "execution_count": 9,
   "metadata": {},
   "outputs": [
    {
     "name": "stdout",
     "output_type": "stream",
     "text": [
      "1. Rectangle\n",
      "2. Circle\n",
      "3. Cuboid\n",
      " 4. Sphere\n",
      " 5. Exit\n",
      "Enter your choice: 1\n",
      "Enter length: 6\n",
      "Enter breadth: 4\n",
      "Area of Rectangle:  24\n",
      "Perimeter of rectangle:  20\n",
      "1. Rectangle\n",
      "2. Circle\n",
      "3. Cuboid\n",
      " 4. Sphere\n",
      " 5. Exit\n",
      "Enter your choice: 2\n",
      "Enter radius: 6\n",
      "Area of Circle:  113.03999999999999\n",
      "Perimeter of circle:  37.68\n",
      "1. Rectangle\n",
      "2. Circle\n",
      "3. Cuboid\n",
      " 4. Sphere\n",
      " 5. Exit\n",
      "Enter your choice: 3\n",
      "Enter length: 4\n",
      "Enter breadth: 3\n",
      "Enter height: 6\n",
      "Area of cuboid:  108\n",
      "Perimeter of cuboid:  52\n",
      "1. Rectangle\n",
      "2. Circle\n",
      "3. Cuboid\n",
      " 4. Sphere\n",
      " 5. Exit\n",
      "Enter your choice: 4\n",
      "enter the radius:4\n",
      "Area of sphere:  100.48\n",
      "Perimeter of sphere:  200.96\n",
      "1. Rectangle\n",
      "2. Circle\n",
      "3. Cuboid\n",
      " 4. Sphere\n",
      " 5. Exit\n",
      "Enter your choice: 5\n",
      "exited\n"
     ]
    }
   ],
   "source": [
    "from graphics import rectcirc\n",
    "from graphics.graphics3d import cuboid\n",
    "from graphics.graphics3d import sphere\n",
    "while(1):\n",
    "    print(\"1. Rectangle\\n2. Circle\\n3. Cuboid\\n 4. Sphere\\n 5. Exit\")\n",
    "    ch=int(input(\"Enter your choice: \"))\n",
    "    if ch==1:\n",
    "        l=int(input(\"Enter length: \"))\n",
    "        b=int(input(\"Enter breadth: \"))\n",
    "        rectcirc.rectarea(l,b)\n",
    "        rectcirc.rectperi(l,b)\n",
    "    elif ch==2:\n",
    "        r=int(input(\"Enter radius: \"))\n",
    "        rectcirc.circlearea(r)\n",
    "        rectcirc.circleperi(r)\n",
    "    elif ch==3:\n",
    "        l = int(input(\"Enter length: \"))\n",
    "        b = int(input(\"Enter breadth: \"))\n",
    "        h= int(input(\"Enter height: \"))\n",
    "        cuboid.cuboidarea(l,b,h)\n",
    "        cuboid.cuboidperi(l,b,h)\n",
    "    elif ch==4:\n",
    "        r=int(input(\"enter the radius:\"))\n",
    "        sphere.spherearea(r)\n",
    "        sphere.sphereperi(r)\n",
    "    else:\n",
    "        print(\"exited\")\n",
    "        break\n",
    "        \n",
    "        \n",
    "        \n",
    "        \n",
    "        \n",
    "        \n",
    "        \n",
    "        \n",
    "        \n"
   ]
  },
  {
   "cell_type": "code",
   "execution_count": null,
   "metadata": {
    "collapsed": true
   },
   "outputs": [],
   "source": []
  },
  {
   "cell_type": "code",
   "execution_count": null,
   "metadata": {
    "collapsed": true
   },
   "outputs": [],
   "source": []
  },
  {
   "cell_type": "code",
   "execution_count": null,
   "metadata": {
    "collapsed": true
   },
   "outputs": [],
   "source": []
  }
 ],
 "metadata": {
  "kernelspec": {
   "display_name": "Python 3",
   "language": "python",
   "name": "python3"
  },
  "language_info": {
   "codemirror_mode": {
    "name": "ipython",
    "version": 3
   },
   "file_extension": ".py",
   "mimetype": "text/x-python",
   "name": "python",
   "nbconvert_exporter": "python",
   "pygments_lexer": "ipython3",
   "version": "3.6.3"
  }
 },
 "nbformat": 4,
 "nbformat_minor": 2
}
