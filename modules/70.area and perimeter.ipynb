{
 "cells": [
  {
   "cell_type": "code",
   "execution_count": 2,
   "metadata": {},
   "outputs": [
    {
     "name": "stdout",
     "output_type": "stream",
     "text": [
      "1.Rectangle\n",
      "2. Circle\n",
      "3. Exit\n",
      "enter your choice:1\n",
      "enter length:5\n",
      "enter breadth:6\n",
      "Area of Rectangle:  30\n",
      "Perimeter of rectangle:  22\n",
      "1.Rectangle\n",
      "2. Circle\n",
      "3. Exit\n",
      "enter your choice:2\n",
      "Enter the radius:5\n",
      "Area of Circle:  78.5\n",
      "Perimeter of circle:  31.400000000000002\n",
      "1.Rectangle\n",
      "2. Circle\n",
      "3. Exit\n",
      "enter your choice:3\n",
      "exited\n"
     ]
    }
   ],
   "source": [
    "import rectcirc\n",
    "while(1):\n",
    "    print(\"1.Rectangle\\n2. Circle\\n3. Exit\")\n",
    "    ch=int(input(\"enter your choice:\"))\n",
    "    if(ch==1):\n",
    "        l=int(input(\"enter length:\"))\n",
    "        b=int(input(\"enter breadth:\"))\n",
    "        rectcirc.rectarea(l,b)\n",
    "        rectcirc.rectperi(l,b)\n",
    "    elif(ch==2):\n",
    "        r=int(input(\"Enter the radius:\"))\n",
    "        rectcirc.circlearea(r)\n",
    "        rectcirc.circleperi(r)\n",
    "    else:\n",
    "        print(\"exited\")\n",
    "        break\n"
   ]
  },
  {
   "cell_type": "code",
   "execution_count": null,
   "metadata": {
    "collapsed": true
   },
   "outputs": [],
   "source": []
  }
 ],
 "metadata": {
  "kernelspec": {
   "display_name": "Python 3",
   "language": "python",
   "name": "python3"
  },
  "language_info": {
   "codemirror_mode": {
    "name": "ipython",
    "version": 3
   },
   "file_extension": ".py",
   "mimetype": "text/x-python",
   "name": "python",
   "nbconvert_exporter": "python",
   "pygments_lexer": "ipython3",
   "version": "3.6.3"
  }
 },
 "nbformat": 4,
 "nbformat_minor": 2
}
