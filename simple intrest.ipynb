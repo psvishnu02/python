{
 "cells": [
  {
   "cell_type": "code",
   "execution_count": 1,
   "metadata": {},
   "outputs": [
    {
     "name": "stdout",
     "output_type": "stream",
     "text": [
      "enter the initial amount:50000\n",
      "enter no of year:2\n",
      "enter the rate of intrest:10\n",
      "the interest is: 10000\n"
     ]
    }
   ],
   "source": [
    "p=int(input('enter the initial amount:'))\n",
    "n=int(input('enter no of year:'))\n",
    "r=int(input('enter the rate of intrest:'))\n",
    "si=(p*n*r)/100\n",
    "print(\"the interest is: %d\"%(si))"
   ]
  },
  {
   "cell_type": "code",
   "execution_count": null,
   "metadata": {
    "collapsed": true
   },
   "outputs": [],
   "source": []
  }
 ],
 "metadata": {
  "kernelspec": {
   "display_name": "Python 3",
   "language": "python",
   "name": "python3"
  },
  "language_info": {
   "codemirror_mode": {
    "name": "ipython",
    "version": 3
   },
   "file_extension": ".py",
   "mimetype": "text/x-python",
   "name": "python",
   "nbconvert_exporter": "python",
   "pygments_lexer": "ipython3",
   "version": "3.6.3"
  }
 },
 "nbformat": 4,
 "nbformat_minor": 2
}
